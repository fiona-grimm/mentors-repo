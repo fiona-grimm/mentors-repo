{
 "cells": [
  {
   "cell_type": "code",
   "execution_count": 1,
   "metadata": {},
   "outputs": [],
   "source": [
    "import pandas as pd\n",
    "import numpy as np\n",
    "import matplotlib.pyplot as plt"
   ]
  },
  {
   "cell_type": "code",
   "execution_count": 2,
   "metadata": {},
   "outputs": [
    {
     "name": "stderr",
     "output_type": "stream",
     "text": [
      "/anaconda3/lib/python3.6/site-packages/IPython/core/interactiveshell.py:2785: DtypeWarning: Columns (15) have mixed types. Specify dtype option on import or set low_memory=False.\n",
      "  interactivity=interactivity, compiler=compiler, result=result)\n"
     ]
    },
    {
     "data": {
      "text/html": [
       "<div>\n",
       "<style scoped>\n",
       "    .dataframe tbody tr th:only-of-type {\n",
       "        vertical-align: middle;\n",
       "    }\n",
       "\n",
       "    .dataframe tbody tr th {\n",
       "        vertical-align: top;\n",
       "    }\n",
       "\n",
       "    .dataframe thead th {\n",
       "        text-align: right;\n",
       "    }\n",
       "</style>\n",
       "<table border=\"1\" class=\"dataframe\">\n",
       "  <thead>\n",
       "    <tr style=\"text-align: right;\">\n",
       "      <th></th>\n",
       "      <th>Unnamed: 0</th>\n",
       "      <th>appointed_on</th>\n",
       "      <th>company_number</th>\n",
       "      <th>name</th>\n",
       "      <th>nationality</th>\n",
       "      <th>occupation</th>\n",
       "      <th>officer_role</th>\n",
       "      <th>resigned_on</th>\n",
       "      <th>year_of_birth</th>\n",
       "      <th>surname</th>\n",
       "      <th>first_name</th>\n",
       "      <th>middle_name_1</th>\n",
       "      <th>middle_name_2</th>\n",
       "      <th>middle_name_3</th>\n",
       "      <th>title</th>\n",
       "      <th>second_title</th>\n",
       "    </tr>\n",
       "  </thead>\n",
       "  <tbody>\n",
       "    <tr>\n",
       "      <th>0</th>\n",
       "      <td>0</td>\n",
       "      <td>2018-04-16</td>\n",
       "      <td>00226143</td>\n",
       "      <td>MCGOVERN, Michael Aidan John</td>\n",
       "      <td>NaN</td>\n",
       "      <td>NaN</td>\n",
       "      <td>secretary</td>\n",
       "      <td>NaN</td>\n",
       "      <td>NaN</td>\n",
       "      <td>MCGOVERN</td>\n",
       "      <td>Michael</td>\n",
       "      <td>Aidan</td>\n",
       "      <td>John</td>\n",
       "      <td>NaN</td>\n",
       "      <td>NaN</td>\n",
       "      <td>NaN</td>\n",
       "    </tr>\n",
       "    <tr>\n",
       "      <th>1</th>\n",
       "      <td>1</td>\n",
       "      <td>2017-03-04</td>\n",
       "      <td>00226143</td>\n",
       "      <td>BICKFORD, Natalie</td>\n",
       "      <td>British</td>\n",
       "      <td>Human Resources Director</td>\n",
       "      <td>director</td>\n",
       "      <td>NaN</td>\n",
       "      <td>NaN</td>\n",
       "      <td>BICKFORD</td>\n",
       "      <td>Natalie</td>\n",
       "      <td>NaN</td>\n",
       "      <td>NaN</td>\n",
       "      <td>NaN</td>\n",
       "      <td>NaN</td>\n",
       "      <td>NaN</td>\n",
       "    </tr>\n",
       "    <tr>\n",
       "      <th>2</th>\n",
       "      <td>2</td>\n",
       "      <td>2004-05-22</td>\n",
       "      <td>00226143</td>\n",
       "      <td>BOWES, Simon Foster</td>\n",
       "      <td>British</td>\n",
       "      <td>Tea Merchant</td>\n",
       "      <td>director</td>\n",
       "      <td>NaN</td>\n",
       "      <td>NaN</td>\n",
       "      <td>BOWES</td>\n",
       "      <td>Simon</td>\n",
       "      <td>Foster</td>\n",
       "      <td>NaN</td>\n",
       "      <td>NaN</td>\n",
       "      <td>NaN</td>\n",
       "      <td>NaN</td>\n",
       "    </tr>\n",
       "    <tr>\n",
       "      <th>3</th>\n",
       "      <td>3</td>\n",
       "      <td>2017-03-04</td>\n",
       "      <td>00226143</td>\n",
       "      <td>BROAD, Benedict Peter</td>\n",
       "      <td>British</td>\n",
       "      <td>Director</td>\n",
       "      <td>director</td>\n",
       "      <td>NaN</td>\n",
       "      <td>NaN</td>\n",
       "      <td>BROAD</td>\n",
       "      <td>Benedict</td>\n",
       "      <td>Peter</td>\n",
       "      <td>NaN</td>\n",
       "      <td>NaN</td>\n",
       "      <td>NaN</td>\n",
       "      <td>NaN</td>\n",
       "    </tr>\n",
       "    <tr>\n",
       "      <th>4</th>\n",
       "      <td>4</td>\n",
       "      <td>2011-11-19</td>\n",
       "      <td>00226143</td>\n",
       "      <td>CONRAN, Sebastian Orby</td>\n",
       "      <td>British</td>\n",
       "      <td>Designer</td>\n",
       "      <td>director</td>\n",
       "      <td>NaN</td>\n",
       "      <td>NaN</td>\n",
       "      <td>CONRAN</td>\n",
       "      <td>Sebastian</td>\n",
       "      <td>Orby</td>\n",
       "      <td>NaN</td>\n",
       "      <td>NaN</td>\n",
       "      <td>NaN</td>\n",
       "      <td>NaN</td>\n",
       "    </tr>\n",
       "  </tbody>\n",
       "</table>\n",
       "</div>"
      ],
      "text/plain": [
       "   Unnamed: 0 appointed_on company_number                          name  \\\n",
       "0           0   2018-04-16       00226143  MCGOVERN, Michael Aidan John   \n",
       "1           1   2017-03-04       00226143             BICKFORD, Natalie   \n",
       "2           2   2004-05-22       00226143           BOWES, Simon Foster   \n",
       "3           3   2017-03-04       00226143         BROAD, Benedict Peter   \n",
       "4           4   2011-11-19       00226143        CONRAN, Sebastian Orby   \n",
       "\n",
       "  nationality                occupation officer_role resigned_on  \\\n",
       "0         NaN                       NaN    secretary         NaN   \n",
       "1     British  Human Resources Director     director         NaN   \n",
       "2     British              Tea Merchant     director         NaN   \n",
       "3     British                  Director     director         NaN   \n",
       "4     British                  Designer     director         NaN   \n",
       "\n",
       "   year_of_birth   surname first_name middle_name_1 middle_name_2  \\\n",
       "0            NaN  MCGOVERN    Michael         Aidan          John   \n",
       "1            NaN  BICKFORD    Natalie           NaN           NaN   \n",
       "2            NaN     BOWES      Simon        Foster           NaN   \n",
       "3            NaN     BROAD   Benedict         Peter           NaN   \n",
       "4            NaN    CONRAN  Sebastian          Orby           NaN   \n",
       "\n",
       "  middle_name_3 title second_title  \n",
       "0           NaN   NaN          NaN  \n",
       "1           NaN   NaN          NaN  \n",
       "2           NaN   NaN          NaN  \n",
       "3           NaN   NaN          NaN  \n",
       "4           NaN   NaN          NaN  "
      ]
     },
     "execution_count": 2,
     "metadata": {},
     "output_type": "execute_result"
    }
   ],
   "source": [
    "board_members = pd.read_csv('Board_members.csv')\n",
    "board_members.head()"
   ]
  },
  {
   "cell_type": "markdown",
   "metadata": {},
   "source": [
    "### Guess gender using gender_guesser"
   ]
  },
  {
   "cell_type": "code",
   "execution_count": 3,
   "metadata": {},
   "outputs": [],
   "source": [
    "import gender_guesser.detector as gender\n",
    "d = gender.Detector()"
   ]
  },
  {
   "cell_type": "code",
   "execution_count": 4,
   "metadata": {},
   "outputs": [],
   "source": [
    "board_members['Gender_guesser'] = board_members.first_name.apply(lambda x: d.get_gender(x, u'great_britain'))"
   ]
  },
  {
   "cell_type": "markdown",
   "metadata": {},
   "source": [
    "### Plot"
   ]
  },
  {
   "cell_type": "code",
   "execution_count": 6,
   "metadata": {},
   "outputs": [
    {
     "ename": "ModuleNotFoundError",
     "evalue": "No module named 'plotly'",
     "output_type": "error",
     "traceback": [
      "\u001b[0;31m---------------------------------------------------------------------------\u001b[0m",
      "\u001b[0;31mModuleNotFoundError\u001b[0m                       Traceback (most recent call last)",
      "\u001b[0;32m<ipython-input-6-352b09e4bc9c>\u001b[0m in \u001b[0;36m<module>\u001b[0;34m()\u001b[0m\n\u001b[0;32m----> 1\u001b[0;31m \u001b[0;32mimport\u001b[0m \u001b[0mplotly\u001b[0m\u001b[0;34m.\u001b[0m\u001b[0mplotly\u001b[0m \u001b[0;32mas\u001b[0m \u001b[0mpy\u001b[0m\u001b[0;34m\u001b[0m\u001b[0m\n\u001b[0m\u001b[1;32m      2\u001b[0m \u001b[0;32mimport\u001b[0m \u001b[0mplotly\u001b[0m\u001b[0;34m.\u001b[0m\u001b[0mgraph_objs\u001b[0m \u001b[0;32mas\u001b[0m \u001b[0mgo\u001b[0m\u001b[0;34m\u001b[0m\u001b[0m\n",
      "\u001b[0;31mModuleNotFoundError\u001b[0m: No module named 'plotly'"
     ]
    }
   ],
   "source": [
    "import plotly.plotly as py\n",
    "import plotly.graph_objs as go\n"
   ]
  },
  {
   "cell_type": "code",
   "execution_count": null,
   "metadata": {},
   "outputs": [],
   "source": [
    "data = [go.Bar(x=board_members.company_number,\n",
    "            y=board_members.Gender_guesser)]\n",
    "\n",
    "py.iplot(data, filename='jupyter-basic_bar')"
   ]
  }
 ],
 "metadata": {
  "kernelspec": {
   "display_name": "Python 3",
   "language": "python",
   "name": "python3"
  },
  "language_info": {
   "codemirror_mode": {
    "name": "ipython",
    "version": 3
   },
   "file_extension": ".py",
   "mimetype": "text/x-python",
   "name": "python",
   "nbconvert_exporter": "python",
   "pygments_lexer": "ipython3",
   "version": "3.6.5"
  }
 },
 "nbformat": 4,
 "nbformat_minor": 2
}
